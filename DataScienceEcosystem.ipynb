{
 "cells": [
  {
   "cell_type": "markdown",
   "id": "24ad9e57-c8ac-4174-81b0-21d1b3e87f68",
   "metadata": {},
   "source": [
    "# Data Science Tools and Ecosystem"
   ]
  },
  {
   "attachments": {},
   "cell_type": "markdown",
   "id": "4df687fa-00d0-43b2-9dc4-b1d38b849773",
   "metadata": {},
   "source": [
    "In this notebook, Data Science Tools and Ecosystem are summarized."
   ]
  },
  {
   "cell_type": "markdown",
   "id": "8f674325-ef78-43a2-b30a-2b01197183a7",
   "metadata": {},
   "source": [
    "**Objectives**\n",
    "* Create a markdown cell with a table of Data Science tools\n",
    "* Create a code cell to multiply and add numbers\n",
    "* Create a code cell to convert minutes to hours\n",
    "* List popular languages for Data Science"
   ]
  },
  {
   "cell_type": "markdown",
   "id": "54cca69d-8a7e-434d-8329-3a2c0bcac379",
   "metadata": {},
   "source": [
    "Some of the popular languages that Data Scientists use are:\n",
    "1. Python\n",
    "2. R\n",
    "3. Julia\n",
    "4. Scala"
   ]
  },
  {
   "cell_type": "markdown",
   "id": "c334217a-f52a-4fdf-96c8-5083ff84c043",
   "metadata": {},
   "source": [
    "Some of the commonly used libraries used by Data Scientists include:\n",
    "1. Pandas\n",
    "2. Numpy\n",
    "3. ggplot"
   ]
  },
  {
   "cell_type": "markdown",
   "id": "bc18366b-bb89-4be8-830e-536619572045",
   "metadata": {},
   "source": [
    "| Data Science Tools |\n",
    "| --- |\n",
    "| Jupyter Notebook |\n",
    "| RStudio |\n",
    "| VS Code |"
   ]
  },
  {
   "cell_type": "markdown",
   "id": "2a4460bb-63bf-43dd-8142-53c5fae28b41",
   "metadata": {},
   "source": [
    "### Below are a few examples of evaluating arithmetic expressions in Python"
   ]
  },
  {
   "cell_type": "code",
   "execution_count": 2,
   "id": "b37a7085-23ea-4ce6-bf88-9e84cbb86742",
   "metadata": {},
   "outputs": [
    {
     "data": {
      "text/plain": [
       "17"
      ]
     },
     "execution_count": 2,
     "metadata": {},
     "output_type": "execute_result"
    }
   ],
   "source": [
    "#This is code to multiply and add numbers.\n",
    "(3*4)+5"
   ]
  },
  {
   "cell_type": "code",
   "execution_count": 5,
   "id": "449b9e12-ff8d-42a8-9c4f-96d46f36e39a",
   "metadata": {},
   "outputs": [
    {
     "data": {
      "text/plain": [
       "3.3333333333333335"
      ]
     },
     "execution_count": 5,
     "metadata": {},
     "output_type": "execute_result"
    }
   ],
   "source": [
    "#This will convert 200 minutes to hours by diving by 60.\n",
    "200 / 60"
   ]
  },
  {
   "cell_type": "markdown",
   "id": "39f08155-caef-47f4-b329-5f24bed3eddc",
   "metadata": {},
   "source": [
    "## Author\n",
    "Thomas Howey"
   ]
  },
  {
   "cell_type": "code",
   "execution_count": null,
   "id": "342bac62-aca6-4938-a034-752c028d0e68",
   "metadata": {},
   "outputs": [],
   "source": []
  }
 ],
 "metadata": {
  "kernelspec": {
   "display_name": "Python 3 (ipykernel)",
   "language": "python",
   "name": "python3"
  },
  "language_info": {
   "codemirror_mode": {
    "name": "ipython",
    "version": 3
   },
   "file_extension": ".py",
   "mimetype": "text/x-python",
   "name": "python",
   "nbconvert_exporter": "python",
   "pygments_lexer": "ipython3",
   "version": "3.11.9"
  }
 },
 "nbformat": 4,
 "nbformat_minor": 5
}
